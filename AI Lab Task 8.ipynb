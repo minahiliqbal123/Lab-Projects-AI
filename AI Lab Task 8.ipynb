{
 "cells": [
  {
   "cell_type": "code",
   "execution_count": 7,
   "id": "b2e955ff-8fc0-43d9-81fa-c09c88073ccc",
   "metadata": {},
   "outputs": [
    {
     "name": "stdout",
     "output_type": "stream",
     "text": [
      "The optimal value is: 5\n"
     ]
    }
   ],
   "source": [
    "#lab task 8\n",
    "\n",
    "import math\n",
    "\n",
    "def minimax(curDepth, nodeIndex, maxTurn, scores, targetDepth):\n",
    "    if curDepth == targetDepth:\n",
    "        return scores[nodeIndex]\n",
    "        \n",
    "    if(maxTurn):\n",
    "        return max(minimax(curDepth + 1, nodeIndex * 2, False, scores, targetDepth),\n",
    "                   minimax(curDepth + 1, nodeIndex * 2 + 1, False, scores, targetDepth))\n",
    "    else:\n",
    "        return min(minimax(curDepth + 1, nodeIndex * 2, True, scores, targetDepth),\n",
    "                   minimax(curDepth + 1, nodeIndex * 2 + 1, True, scores, targetDepth))\n",
    "\n",
    "scores = [3,5,2,9,3,5,2,9]\n",
    "treeDepth = int(math.log(len(scores), 2))\n",
    "print(\"The optimal value is: \", end=\"\")\n",
    "print(minimax(0,0, True, scores, treeDepth))"
   ]
  },
  {
   "cell_type": "code",
   "execution_count": null,
   "id": "ae6b43d9-bfa4-4ef1-be03-5262496e3587",
   "metadata": {},
   "outputs": [],
   "source": []
  }
 ],
 "metadata": {
  "kernelspec": {
   "display_name": "Python 3 (ipykernel)",
   "language": "python",
   "name": "python3"
  },
  "language_info": {
   "codemirror_mode": {
    "name": "ipython",
    "version": 3
   },
   "file_extension": ".py",
   "mimetype": "text/x-python",
   "name": "python",
   "nbconvert_exporter": "python",
   "pygments_lexer": "ipython3",
   "version": "3.12.4"
  }
 },
 "nbformat": 4,
 "nbformat_minor": 5
}
