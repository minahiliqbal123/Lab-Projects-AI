{
 "cells": [
  {
   "cell_type": "code",
   "execution_count": 2,
   "id": "f4b78e30-a113-4e80-af77-7c1e04dbc8eb",
   "metadata": {},
   "outputs": [
    {
     "name": "stdout",
     "output_type": "stream",
     "text": [
      "---Welcome to the game Fizz Buzz!---\n"
     ]
    },
    {
     "name": "stdin",
     "output_type": "stream",
     "text": [
      "Enter a number for Player 1:  1\n"
     ]
    },
    {
     "name": "stdout",
     "output_type": "stream",
     "text": [
      "Player 1: 1\n"
     ]
    },
    {
     "name": "stdin",
     "output_type": "stream",
     "text": [
      "Enter a number for Player 2:  2\n"
     ]
    },
    {
     "name": "stdout",
     "output_type": "stream",
     "text": [
      "Player 2: 2\n"
     ]
    },
    {
     "name": "stdin",
     "output_type": "stream",
     "text": [
      "Enter a number for Player 1:  5\n"
     ]
    },
    {
     "name": "stdout",
     "output_type": "stream",
     "text": [
      "Player 1: fizz\n"
     ]
    },
    {
     "name": "stdin",
     "output_type": "stream",
     "text": [
      "Enter a number for Player 2:  6\n"
     ]
    },
    {
     "name": "stdout",
     "output_type": "stream",
     "text": [
      "Player 2: 8\n"
     ]
    },
    {
     "name": "stdin",
     "output_type": "stream",
     "text": [
      "Enter a number for Player 1:  8\n"
     ]
    },
    {
     "name": "stdout",
     "output_type": "stream",
     "text": [
      "Player 1: 14\n"
     ]
    },
    {
     "name": "stdin",
     "output_type": "stream",
     "text": [
      "Enter a number for Player 2:  5\n"
     ]
    },
    {
     "name": "stdout",
     "output_type": "stream",
     "text": [
      "Player 2: 13\n"
     ]
    },
    {
     "name": "stdin",
     "output_type": "stream",
     "text": [
      "Enter a number for Player 1:  4\n"
     ]
    },
    {
     "name": "stdout",
     "output_type": "stream",
     "text": [
      "Player 1: fizz\n"
     ]
    },
    {
     "name": "stdin",
     "output_type": "stream",
     "text": [
      "Enter a number for Player 2:  7\n"
     ]
    },
    {
     "name": "stdout",
     "output_type": "stream",
     "text": [
      "Player 2: buzz\n"
     ]
    },
    {
     "name": "stdin",
     "output_type": "stream",
     "text": [
      "Enter a number for Player 1:  9\n"
     ]
    },
    {
     "name": "stdout",
     "output_type": "stream",
     "text": [
      "Player 1: fizz\n"
     ]
    },
    {
     "name": "stdin",
     "output_type": "stream",
     "text": [
      "Enter a number for Player 2:  5\n"
     ]
    },
    {
     "name": "stdout",
     "output_type": "stream",
     "text": [
      "Player 2: buzz\n"
     ]
    },
    {
     "name": "stdin",
     "output_type": "stream",
     "text": [
      "Enter a number for Player 1:  3\n"
     ]
    },
    {
     "name": "stdout",
     "output_type": "stream",
     "text": [
      "Player 1: fizz buzz\n",
      "Player 2 wins\n"
     ]
    }
   ],
   "source": [
    "# GAME FIZZ BUZZ\n",
    "def Game(num):\n",
    "    if num % 3 == 0 and num % 5 == 0:\n",
    "        return \"fizz buzz\"\n",
    "    elif num % 3 == 0:\n",
    "        return \"fizz\"\n",
    "    elif num % 5 == 0:\n",
    "        return \"buzz\"\n",
    "    else:\n",
    "        return str(num)\n",
    "def fizz_buzz_game():\n",
    "    print(\"---Welcome to the game Fizz Buzz!---\")\n",
    "\n",
    "    p1_total = 0\n",
    "    p2_total = 0\n",
    "    \n",
    "    while True:\n",
    "        player1 = int(input(\"Enter a number for Player 1: \"))\n",
    "        p1_total +=player1\n",
    "        result=Game(p1_total)\n",
    "        print(f\"Player 1: {result}\")\n",
    "\n",
    "        if result == \"fizz buzz\":\n",
    "            print(\"Player 2 wins\")\n",
    "            break\n",
    "        player2 = int(input(\"Enter a number for Player 2: \"))\n",
    "        p2_total+=player2\n",
    "        result=Game(p2_total)\n",
    "        print(f\"Player 2: {result}\")\n",
    "\n",
    "        if result == \"fizz buzz\":\n",
    "            print(\"Player 1 wins\")\n",
    "            break\n",
    "\n",
    "fizz_buzz_game()"
   ]
  },
  {
   "cell_type": "code",
   "execution_count": 3,
   "id": "9707b67b-a258-4482-ac5a-9d6f4385a6cc",
   "metadata": {},
   "outputs": [
    {
     "name": "stdin",
     "output_type": "stream",
     "text": [
      "How many movies do would you like to add?  1\n",
      "Enter the movie name:  Jungle Book\n",
      "Enter the movie budget:  2000\n"
     ]
    },
    {
     "name": "stdout",
     "output_type": "stream",
     "text": [
      "\n",
      "The average budget of the movies is $166,687,750.0\n",
      "\n",
      "Pirates of the Caribbean: On Stranger Tides has a budget of $379,000,000 which is $212,312,250.0 more than average.\n",
      "Avengers: Age of Ultron has a budget of $365,000,000 which is $198,312,250.0 more than average.\n",
      "Avengers: Endgame has a budget of $356,000,000 which is $189,312,250.0 more than average.\n",
      "Incredibles 2 has a budget of $200,000,000 which is $33,312,250.0 more than average.\n",
      "\n",
      "Total number of movies with a budget higher than the average: 4\n"
     ]
    }
   ],
   "source": [
    "# TASK (MINI PROJECT 2)\n",
    "movies = [\n",
    "    (\"Eternal Sunshine of the Spotless Mind\", 20000000),\n",
    "    (\"Memento\", 9000000),\n",
    "    (\"Requiem for a Dream\", 4500000),\n",
    "    (\"Pirates of the Caribbean: On Stranger Tides\", 379000000),\n",
    "    (\"Avengers: Age of Ultron\", 365000000),\n",
    "    (\"Avengers: Endgame\", 356000000),\n",
    "    (\"Incredibles 2\", 200000000)\n",
    "]\n",
    "\n",
    "def calculate_average_budget(movies):\n",
    "    total_budget = sum(budget for _, budget in movies)\n",
    "    return total_budget / len(movies)\n",
    "\n",
    "def find_high_budget_movies(movies, average_budget):\n",
    "    high_budget_movies = []\n",
    "    for movie, budget in movies:\n",
    "        if budget > average_budget:\n",
    "            difference = budget - average_budget\n",
    "            high_budget_movies.append((movie, budget, difference))\n",
    "            print(f\"{movie} has a budget of ${budget:,} which is ${difference:,} more than average.\")\n",
    "    print(f\"\\nTotal number of movies with a budget higher than the average: {len(high_budget_movies)}\")\n",
    "\n",
    "def add_movies(movies):\n",
    "    try:\n",
    "        num_movies_to_add = int(input(\"How many movies do would you like to add? \"))\n",
    "    except ValueError:\n",
    "        print(\"Invalid input. No movies will be added.\")\n",
    "        return movies\n",
    "        \n",
    "    for _ in range(num_movies_to_add):\n",
    "        name = input(\"Enter the movie name: \")\n",
    "        try:\n",
    "            budget = int(input(\"Enter the movie budget: \"))\n",
    "        except ValueError:\n",
    "            print(\"Invalid budget. Skipping this movie.\")\n",
    "            continue \n",
    "        movies.append((name, budget))\n",
    "        \n",
    "    return movies\n",
    "\n",
    "\n",
    "if __name__ == \"__main__\":\n",
    "    movies = add_movies(movies)\n",
    "    average_budget = calculate_average_budget(movies)\n",
    "    print(f\"\\nThe average budget of the movies is ${average_budget:,}\\n\")\n",
    "    high_budget_movies = find_high_budget_movies(movies, average_budget)\n",
    "    "
   ]
  },
  {
   "cell_type": "code",
   "execution_count": null,
   "id": "0732d547-465a-4265-9cea-f7f292795eb5",
   "metadata": {},
   "outputs": [],
   "source": []
  }
 ],
 "metadata": {
  "kernelspec": {
   "display_name": "Python 3 (ipykernel)",
   "language": "python",
   "name": "python3"
  },
  "language_info": {
   "codemirror_mode": {
    "name": "ipython",
    "version": 3
   },
   "file_extension": ".py",
   "mimetype": "text/x-python",
   "name": "python",
   "nbconvert_exporter": "python",
   "pygments_lexer": "ipython3",
   "version": "3.11.7"
  }
 },
 "nbformat": 4,
 "nbformat_minor": 5
}
