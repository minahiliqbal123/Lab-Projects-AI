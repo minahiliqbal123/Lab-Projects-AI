{
 "cells": [
  {
   "cell_type": "code",
   "execution_count": 19,
   "id": "bccff415-f049-4564-bf94-ef08cde8e033",
   "metadata": {},
   "outputs": [
    {
     "name": "stdout",
     "output_type": "stream",
     "text": [
      "Valid card number\n"
     ]
    }
   ],
   "source": [
    "def luhn_algorithm(card_number):\n",
    "    card_digits = [int(y) for y in card_number[:-1]]\n",
    "    y = int(card_number[-1])\n",
    "    card_digits.reverse()\n",
    "    for i in range(len(card_digits)):\n",
    "        if i % 2 == 0:\n",
    "            card_digits[i] *= 2\n",
    "    card_digits = [num - 9 if num > 9 else num for num in card_digits]\n",
    "    total_sum = sum(card_digits) + y\n",
    "    if total_sum % 10 == 0:\n",
    "        return \"Valid card number\"\n",
    "    else:\n",
    "        return \"Invalid card number\"\n",
    "\n",
    "card_number = \"5893804115457289\"\n",
    "display_output = luhn_algorithm(card_number)\n",
    "print(display_output)"
   ]
  },
  {
   "cell_type": "code",
   "execution_count": 2,
   "id": "b4bc2b4f-cd89-4b6d-9aca-6a8ed183bd00",
   "metadata": {},
   "outputs": [
    {
     "name": "stdin",
     "output_type": "stream",
     "text": [
      "Enter a string:  Hi Programmer! @saba #1234\n"
     ]
    },
    {
     "name": "stdout",
     "output_type": "stream",
     "text": [
      "String without punctuation: Hi Programmer saba 1234\n"
     ]
    }
   ],
   "source": [
    "import string\n",
    "def remove_punctuation(user_input):\n",
    "    result = ''\n",
    "    punctuations = string.punctuation\n",
    "    for char in user_input:\n",
    "        if char not in punctuations:\n",
    "            result += char\n",
    "    return result\n",
    "\n",
    "user_input = input(\"Enter a string: \")\n",
    "output = remove_punctuation(user_input)\n",
    "print(\"String without punctuation:\", output)\n",
    "\n"
   ]
  },
  {
   "cell_type": "code",
   "execution_count": 15,
   "id": "e7ccd8f7-4a09-4b3a-8770-57545cb60908",
   "metadata": {},
   "outputs": [
    {
     "name": "stdout",
     "output_type": "stream",
     "text": [
      "['A', 'Saba', 'b', 'hi', 'sana']\n"
     ]
    }
   ],
   "source": [
    "# sord word\n",
    "list1 = ['hi' , 'A' , 'Saba' , 'b' , 'sana']\n",
    "for j in range(len(list1)-1):\n",
    "    for i in range(len(list1)-1-j):\n",
    "        if list1[i]>list1[i+1]:\n",
    "            list1[i],list1[i+1] = list1[i+1],list1[i]\n",
    "print(list1)"
   ]
  },
  {
   "cell_type": "code",
   "execution_count": null,
   "id": "c3912d42-c6dc-4966-914c-4234288b0756",
   "metadata": {},
   "outputs": [],
   "source": []
  }
 ],
 "metadata": {
  "kernelspec": {
   "display_name": "Python 3 (ipykernel)",
   "language": "python",
   "name": "python3"
  },
  "language_info": {
   "codemirror_mode": {
    "name": "ipython",
    "version": 3
   },
   "file_extension": ".py",
   "mimetype": "text/x-python",
   "name": "python",
   "nbconvert_exporter": "python",
   "pygments_lexer": "ipython3",
   "version": "3.11.7"
  }
 },
 "nbformat": 4,
 "nbformat_minor": 5
}
