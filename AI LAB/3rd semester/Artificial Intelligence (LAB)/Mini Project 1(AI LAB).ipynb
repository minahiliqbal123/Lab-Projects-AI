{
 "cells": [
  {
   "cell_type": "code",
   "execution_count": 1,
   "id": "96755992-604c-4581-ae18-eef7ccbe7dc8",
   "metadata": {},
   "outputs": [
    {
     "name": "stdin",
     "output_type": "stream",
     "text": [
      "Enter the size of the board:  6\n"
     ]
    },
    {
     "name": "stdout",
     "output_type": "stream",
     "text": [
      "-|-|-|-|-|-\n",
      "-----------\n",
      "-|-|-|-|-|-\n",
      "-----------\n",
      "-|-|-|-|-|-\n",
      "-----------\n",
      "-|-|-|-|-|-\n",
      "-----------\n",
      "-|-|-|-|-|-\n",
      "-----------\n",
      "-|-|-|-|-|-\n"
     ]
    },
    {
     "name": "stdin",
     "output_type": "stream",
     "text": [
      "Enter your value of 'o':  1\n"
     ]
    },
    {
     "name": "stdout",
     "output_type": "stream",
     "text": [
      "o|-|-|-|-|-\n",
      "-----------\n",
      "-|-|-|-|-|-\n",
      "-----------\n",
      "-|-|-|-|-|-\n",
      "-----------\n",
      "-|-|-|-|-|-\n",
      "-----------\n",
      "-|-|-|-|-|-\n",
      "-----------\n",
      "-|-|-|-|-|-\n"
     ]
    },
    {
     "name": "stdin",
     "output_type": "stream",
     "text": [
      "Enter your value of 'x':  8\n"
     ]
    },
    {
     "name": "stdout",
     "output_type": "stream",
     "text": [
      "o|-|-|-|-|-\n",
      "-----------\n",
      "-|x|-|-|-|-\n",
      "-----------\n",
      "-|-|-|-|-|-\n",
      "-----------\n",
      "-|-|-|-|-|-\n",
      "-----------\n",
      "-|-|-|-|-|-\n",
      "-----------\n",
      "-|-|-|-|-|-\n"
     ]
    },
    {
     "name": "stdin",
     "output_type": "stream",
     "text": [
      "Enter your value of 'o':  2\n"
     ]
    },
    {
     "name": "stdout",
     "output_type": "stream",
     "text": [
      "o|o|-|-|-|-\n",
      "-----------\n",
      "-|x|-|-|-|-\n",
      "-----------\n",
      "-|-|-|-|-|-\n",
      "-----------\n",
      "-|-|-|-|-|-\n",
      "-----------\n",
      "-|-|-|-|-|-\n",
      "-----------\n",
      "-|-|-|-|-|-\n"
     ]
    },
    {
     "name": "stdin",
     "output_type": "stream",
     "text": [
      "Enter your value of 'x':  10\n"
     ]
    },
    {
     "name": "stdout",
     "output_type": "stream",
     "text": [
      "o|o|-|-|-|-\n",
      "-----------\n",
      "-|x|-|x|-|-\n",
      "-----------\n",
      "-|-|-|-|-|-\n",
      "-----------\n",
      "-|-|-|-|-|-\n",
      "-----------\n",
      "-|-|-|-|-|-\n",
      "-----------\n",
      "-|-|-|-|-|-\n"
     ]
    },
    {
     "name": "stdin",
     "output_type": "stream",
     "text": [
      "Enter your value of 'o':  3\n"
     ]
    },
    {
     "name": "stdout",
     "output_type": "stream",
     "text": [
      "o|o|o|-|-|-\n",
      "-----------\n",
      "-|x|-|x|-|-\n",
      "-----------\n",
      "-|-|-|-|-|-\n",
      "-----------\n",
      "-|-|-|-|-|-\n",
      "-----------\n",
      "-|-|-|-|-|-\n",
      "-----------\n",
      "-|-|-|-|-|-\n"
     ]
    },
    {
     "name": "stdin",
     "output_type": "stream",
     "text": [
      "Enter your value of 'x':  17\n"
     ]
    },
    {
     "name": "stdout",
     "output_type": "stream",
     "text": [
      "o|o|o|-|-|-\n",
      "-----------\n",
      "-|x|-|x|-|-\n",
      "-----------\n",
      "-|-|-|-|x|-\n",
      "-----------\n",
      "-|-|-|-|-|-\n",
      "-----------\n",
      "-|-|-|-|-|-\n",
      "-----------\n",
      "-|-|-|-|-|-\n"
     ]
    },
    {
     "name": "stdin",
     "output_type": "stream",
     "text": [
      "Enter your value of 'o':  4\n"
     ]
    },
    {
     "name": "stdout",
     "output_type": "stream",
     "text": [
      "o|o|o|o|-|-\n",
      "-----------\n",
      "-|x|-|x|-|-\n",
      "-----------\n",
      "-|-|-|-|x|-\n",
      "-----------\n",
      "-|-|-|-|-|-\n",
      "-----------\n",
      "-|-|-|-|-|-\n",
      "-----------\n",
      "-|-|-|-|-|-\n"
     ]
    },
    {
     "name": "stdin",
     "output_type": "stream",
     "text": [
      "Enter your value of 'x':  7\n"
     ]
    },
    {
     "name": "stdout",
     "output_type": "stream",
     "text": [
      "o|o|o|o|-|-\n",
      "-----------\n",
      "x|x|-|x|-|-\n",
      "-----------\n",
      "-|-|-|-|x|-\n",
      "-----------\n",
      "-|-|-|-|-|-\n",
      "-----------\n",
      "-|-|-|-|-|-\n",
      "-----------\n",
      "-|-|-|-|-|-\n"
     ]
    },
    {
     "name": "stdin",
     "output_type": "stream",
     "text": [
      "Enter your value of 'o':  5\n"
     ]
    },
    {
     "name": "stdout",
     "output_type": "stream",
     "text": [
      "o|o|o|o|o|-\n",
      "-----------\n",
      "x|x|-|x|-|-\n",
      "-----------\n",
      "-|-|-|-|x|-\n",
      "-----------\n",
      "-|-|-|-|-|-\n",
      "-----------\n",
      "-|-|-|-|-|-\n",
      "-----------\n",
      "-|-|-|-|-|-\n"
     ]
    },
    {
     "name": "stdin",
     "output_type": "stream",
     "text": [
      "Enter your value of 'x':  9\n"
     ]
    },
    {
     "name": "stdout",
     "output_type": "stream",
     "text": [
      "o|o|o|o|o|-\n",
      "-----------\n",
      "x|x|x|x|-|-\n",
      "-----------\n",
      "-|-|-|-|x|-\n",
      "-----------\n",
      "-|-|-|-|-|-\n",
      "-----------\n",
      "-|-|-|-|-|-\n",
      "-----------\n",
      "-|-|-|-|-|-\n"
     ]
    },
    {
     "name": "stdin",
     "output_type": "stream",
     "text": [
      "Enter your value of 'o':  6\n"
     ]
    },
    {
     "name": "stdout",
     "output_type": "stream",
     "text": [
      "o|o|o|o|o|o\n",
      "-----------\n",
      "x|x|x|x|-|-\n",
      "-----------\n",
      "-|-|-|-|x|-\n",
      "-----------\n",
      "-|-|-|-|-|-\n",
      "-----------\n",
      "-|-|-|-|-|-\n",
      "-----------\n",
      "-|-|-|-|-|-\n",
      "Player 'o' wins!\n"
     ]
    }
   ],
   "source": [
    "# Tic Tac Toe Game\n",
    "n = int(input('Enter the size of the board: '))\n",
    "size = n * n\n",
    "matrix = ['-'] * size\n",
    "\n",
    "def mat():\n",
    "    for i in range(1, size + 1):\n",
    "        print(matrix[i - 1], end='')    \n",
    "        if i % n != 0:\n",
    "            print('|',end='')\n",
    "        if i % n == 0:\n",
    "            print()\n",
    "            if i < size:\n",
    "                print('-' * (n * 2 - 1))\n",
    "\n",
    "def check_win(symbol):\n",
    "    for i in range(0, size, n):\n",
    "        if all(matrix[i + j] == symbol for j in range(n)):\n",
    "            return True\n",
    "            \n",
    "    for i in range(n):\n",
    "        if all(matrix[i + j * n] == symbol for j in range(n)):\n",
    "            return True\n",
    "            \n",
    "    if all(matrix[i * (n + 1)] == symbol for i in range(n)):\n",
    "        return True\n",
    "        \n",
    "    if all(matrix[(i + 1) * (n - 1)] == symbol for i in range(n)):\n",
    "        return True\n",
    "        \n",
    "    return False\n",
    "     \n",
    "def play():\n",
    "    loop = len(matrix) // 2 + 1\n",
    "    for i in range(loop):\n",
    "        count = True\n",
    "        o = int(input('Enter your value of \\'o\\': '))\n",
    "        while count:\n",
    "            if 0 < o <= size and matrix[o - 1] == '-':\n",
    "                matrix[o-1] = 'o'\n",
    "                mat()\n",
    "                if check_win('o'):\n",
    "                    print(\"Player 'o' wins!\")\n",
    "                    return\n",
    "                count = False\n",
    "            else:\n",
    "                print('Invalid value')\n",
    "                o = int(input('Enter your value of \\'o\\': '))\n",
    "\n",
    "        if i == loop - 1:\n",
    "            break\n",
    "\n",
    "        count = True\n",
    "        x = int(input('Enter your value of \\'x\\': '))\n",
    "        while count:\n",
    "            if 0 < x <= size and matrix[x - 1] == '-':\n",
    "                matrix[x - 1] = 'x'\n",
    "                mat()\n",
    "                if check_win('x'):\n",
    "                    print(\"Player 'x' wins!\")\n",
    "                    return\n",
    "                count = False\n",
    "            else:\n",
    "                print('Invalid value')\n",
    "                x = int(input('Enter your value of \\'x\\': '))\n",
    "    print(\"Its a draw!\")\n",
    "    \n",
    "mat()\n",
    "play()"
   ]
  }
 ],
 "metadata": {
  "kernelspec": {
   "display_name": "Python 3 (ipykernel)",
   "language": "python",
   "name": "python3"
  },
  "language_info": {
   "codemirror_mode": {
    "name": "ipython",
    "version": 3
   },
   "file_extension": ".py",
   "mimetype": "text/x-python",
   "name": "python",
   "nbconvert_exporter": "python",
   "pygments_lexer": "ipython3",
   "version": "3.11.7"
  }
 },
 "nbformat": 4,
 "nbformat_minor": 5
}
