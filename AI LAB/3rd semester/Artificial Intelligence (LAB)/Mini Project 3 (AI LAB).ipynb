{
 "cells": [
  {
   "cell_type": "code",
   "execution_count": 3,
   "id": "d4f1beac-9748-4889-850d-b60a85956fc6",
   "metadata": {},
   "outputs": [
    {
     "name": "stdout",
     "output_type": "stream",
     "text": [
      "Living Room (28 C) ==> Room: Living Room: Turn off the heater\n",
      "Bedroom (18 C) ==> Room: Bedroom: Turn on the heater\n",
      "Kitchen (32 C) ==> Room: Kitchen: Turn off the heater\n",
      "\n",
      "Knowledge Base: {'Living Room': 28, 'Bedroom': 18, 'Kitchen': 32}\n"
     ]
    }
   ],
   "source": [
    "class ModelBaseAgent:\n",
    "    def __init__(self, desired_temp):\n",
    "        self.desired_temp = desired_temp\n",
    "        self.knowledge_base = {}\n",
    "\n",
    "    def percept(self, room,temp):\n",
    "        self.knowledge_base[room] = temp\n",
    "        self.current_temp = temp\n",
    "        self.current_room = room\n",
    "        \n",
    "    def actuators(self):\n",
    "        if self.current_temp > self.desired_temp:\n",
    "            return f\"Room: {self.current_room}: Turn off the heater\"\n",
    "        else:\n",
    "            return f\"Room: {self.current_room}: Turn on the heater\"\n",
    "            \n",
    "    def get_knowledge(self):\n",
    "        return self.knowledge_base\n",
    "\n",
    "agent = ModelBaseAgent(22)\n",
    "\n",
    "rooms = {\n",
    "    \"Living Room\": 28,\n",
    "    \"Bedroom\": 18,\n",
    "    \"Kitchen\": 32\n",
    "}\n",
    "\n",
    "for room, temp in rooms.items():\n",
    "    agent.percept(room, temp)\n",
    "    print(f\"{room} ({temp} C) ==> {agent.actuators()}\")\n",
    "\n",
    "print(\"\\nKnowledge Base:\" , agent.get_knowledge())\n",
    "\n",
    "\n",
    "    "
   ]
  },
  {
   "cell_type": "code",
   "execution_count": null,
   "id": "95b4ed0c-cebe-4abb-9cec-6daa0510979b",
   "metadata": {},
   "outputs": [],
   "source": []
  }
 ],
 "metadata": {
  "kernelspec": {
   "display_name": "Python 3 (ipykernel)",
   "language": "python",
   "name": "python3"
  },
  "language_info": {
   "codemirror_mode": {
    "name": "ipython",
    "version": 3
   },
   "file_extension": ".py",
   "mimetype": "text/x-python",
   "name": "python",
   "nbconvert_exporter": "python",
   "pygments_lexer": "ipython3",
   "version": "3.11.7"
  }
 },
 "nbformat": 4,
 "nbformat_minor": 5
}
